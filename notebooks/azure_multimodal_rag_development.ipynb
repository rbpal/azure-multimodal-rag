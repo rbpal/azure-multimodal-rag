{
 "cells": [
  {
   "cell_type": "code",
   "execution_count": null,
   "id": "55ff2c67",
   "metadata": {},
   "outputs": [],
   "source": []
  },
  {
   "cell_type": "code",
   "execution_count": 7,
   "id": "0a00e40b",
   "metadata": {},
   "outputs": [],
   "source": [
    "import sys\n",
    "import os\n",
    "import subprocess\n",
    "from pathlib import Path\n",
    "import logging"
   ]
  },
  {
   "cell_type": "code",
   "execution_count": 8,
   "id": "cfaab6c3",
   "metadata": {},
   "outputs": [
    {
     "name": "stdout",
     "output_type": "stream",
     "text": [
      "🎯 Azure RAG Project: ~/azure-multimodal-rag\n",
      "📍 Current Working Directory: azure-multimodal-rag\n",
      "🎯 Azure RAG Project: ~/projects/azure-multimodal-rag\n",
      "📍 Working in: azure-multimodal-rag\n"
     ]
    }
   ],
   "source": [
    "\n",
    "\n",
    "# Get your home directory automatically\n",
    "HOME = Path.home()\n",
    "project_name = \"azure-multimodal-rag\"\n",
    "AZURE_RAG_PROJECT = HOME / \"projects\" / project_name\n",
    "\n",
    "print(f\"🎯 Azure RAG Project: ~/{project_name}\")\n",
    "print(f\"📍 Current Working Directory: {Path.cwd().name}\")\n",
    "\n",
    "# Create and navigate\n",
    "AZURE_RAG_PROJECT.mkdir(parents=True, exist_ok=True)\n",
    "os.chdir(AZURE_RAG_PROJECT)\n",
    "\n",
    "# Safe display\n",
    "print(f\"🎯 Azure RAG Project: ~/projects/azure-multimodal-rag\")\n",
    "print(f\"📍 Working in: {AZURE_RAG_PROJECT.name}\")"
   ]
  },
  {
   "cell_type": "code",
   "execution_count": 9,
   "id": "74a1e384",
   "metadata": {},
   "outputs": [
    {
     "name": "stdout",
     "output_type": "stream",
     "text": [
      "🎯 Azure RAG Project: ~/projects/azure-multimodal-rag\n",
      "📍 Working directory: azure-multimodal-rag\n",
      "📁 Creating directory structure...\n",
      "   📁 config\n",
      "   📁 models\n",
      "   📁 data/raw/pdfs\n",
      "   📁 data/processed\n",
      "   📁 data/vector_store\n",
      "   📁 src/document_processor\n",
      "   📁 src/vector_store\n",
      "   📁 src/retrieval\n",
      "   📁 src/generation\n",
      "   📁 src/utils\n",
      "   📁 logs\n",
      "   📁 notebooks\n",
      "   📁 scripts\n",
      "   📁 tests\n",
      "✅ Project structure created\n",
      "📍 All files created in: ~/azure-multimodal-rag/\n"
     ]
    }
   ],
   "source": [
    "\n",
    "# Set up logging\n",
    "# Create logs directory\n",
    "Path(\"logs\").mkdir(exist_ok=True)\n",
    "\n",
    "# Configure to save to file\n",
    "logging.basicConfig(\n",
    "    level=logging.INFO,\n",
    "    format='%(asctime)s - %(name)s - %(levelname)s - %(message)s',\n",
    "    handlers=[\n",
    "        logging.FileHandler('logs/app.log'),  # Save to file\n",
    "        logging.StreamHandler()               # Also show on screen\n",
    "    ]\n",
    ")\n",
    "\n",
    "# SECURE Project configuration - no personal paths exposed\n",
    "HOME = Path.home()  # Gets your home directory automatically\n",
    "PROJECT_NAME = \"azure-multimodal-rag\"\n",
    "AZURE_RAG_PROJECT = HOME / \"projects\" / PROJECT_NAME\n",
    "\n",
    "# Safe display function\n",
    "def safe_display(path):\n",
    "    \"\"\"Display path without exposing personal directory\"\"\"\n",
    "    return str(path).replace(str(HOME), \"~\")\n",
    "\n",
    "print(f\"🎯 Azure RAG Project: {safe_display(AZURE_RAG_PROJECT)}\")\n",
    "\n",
    "# Create project directory and add to path\n",
    "AZURE_RAG_PROJECT.mkdir(parents=True, exist_ok=True)\n",
    "if str(AZURE_RAG_PROJECT) not in sys.path:\n",
    "    sys.path.append(str(AZURE_RAG_PROJECT))\n",
    "\n",
    "# Change to project directory for file creation\n",
    "os.chdir(AZURE_RAG_PROJECT)\n",
    "print(f\"📍 Working directory: {AZURE_RAG_PROJECT.name}\")\n",
    "\n",
    "# Create complete directory structure\n",
    "directories = [\n",
    "    \"config\", \"models\", \"data/raw/pdfs\", \"data/processed\", \"data/vector_store\",\n",
    "    \"src/document_processor\", \"src/vector_store\", \"src/retrieval\", \n",
    "    \"src/generation\", \"src/utils\", \"logs\", \"notebooks\", \"scripts\", \"tests\"\n",
    "]\n",
    "\n",
    "print(\"📁 Creating directory structure...\")\n",
    "for directory in directories:\n",
    "    Path(directory).mkdir(parents=True, exist_ok=True)\n",
    "    print(f\"   📁 {directory}\")\n",
    "\n",
    "# Create __init__.py files\n",
    "init_files = [\n",
    "    \"src/__init__.py\", \"src/document_processor/__init__.py\", \n",
    "    \"src/vector_store/__init__.py\", \"src/retrieval/__init__.py\",\n",
    "    \"src/generation/__init__.py\", \"src/utils/__init__.py\", \"config/__init__.py\"\n",
    "]\n",
    "\n",
    "for init_file in init_files:\n",
    "    Path(init_file).touch()\n",
    "\n",
    "print(\"✅ Project structure created\")\n",
    "print(f\"📍 All files created in: ~/{PROJECT_NAME}/\")"
   ]
  },
  {
   "cell_type": "code",
   "execution_count": null,
   "id": "4af75c78",
   "metadata": {},
   "outputs": [],
   "source": []
  },
  {
   "cell_type": "code",
   "execution_count": null,
   "id": "526e4c1b",
   "metadata": {},
   "outputs": [],
   "source": []
  },
  {
   "cell_type": "code",
   "execution_count": null,
   "id": "b168109a",
   "metadata": {},
   "outputs": [],
   "source": []
  }
 ],
 "metadata": {
  "kernelspec": {
   "display_name": "Python 3 (ipykernel)",
   "language": "python",
   "name": "python3"
  },
  "language_info": {
   "codemirror_mode": {
    "name": "ipython",
    "version": 3
   },
   "file_extension": ".py",
   "mimetype": "text/x-python",
   "name": "python",
   "nbconvert_exporter": "python",
   "pygments_lexer": "ipython3",
   "version": "3.11.12"
  }
 },
 "nbformat": 4,
 "nbformat_minor": 5
}
